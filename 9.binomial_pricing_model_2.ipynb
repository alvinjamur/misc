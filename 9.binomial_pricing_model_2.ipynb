{
 "cells": [
  {
   "cell_type": "code",
   "execution_count": 1,
   "id": "6ea7ef40",
   "metadata": {},
   "outputs": [],
   "source": [
    "import numpy as np\n",
    "import pandas as pd\n",
    "import matplotlib.pyplot as plt\n",
    "from math import comb"
   ]
  },
  {
   "cell_type": "code",
   "execution_count": 2,
   "id": "ff864939",
   "metadata": {},
   "outputs": [],
   "source": [
    "N = 2 # number of periods\n",
    "T = 1 # total time (in years)\n",
    "S_0 = 50 # initial stock price\n",
    "K = 60 # option strike price\n",
    "dt = T/N # delta t\n",
    "sigma = 0.4 # annual stock volatility\n",
    "r = 0.05 # annual risk free rate"
   ]
  },
  {
   "cell_type": "code",
   "execution_count": 3,
   "id": "029a6f97",
   "metadata": {},
   "outputs": [],
   "source": [
    "u = np.exp(sigma * np.sqrt(dt)) # up move\n",
    "d = np.exp(-sigma * np.sqrt(dt)) # down move\n",
    "p = (np.exp(r*dt) - d) / (u - d) # risk-neutral probability"
   ]
  },
  {
   "cell_type": "code",
   "execution_count": 4,
   "id": "de300ac4",
   "metadata": {},
   "outputs": [],
   "source": [
    "df = pd.DataFrame(index=np.arange(N+1), columns=['Probability', 'S_T', 'C_T', 'P_T'])\n",
    "\n",
    "for i in range(N+1):\n",
    "    S_T = S_0 * u**i * d**(N-i) # stock prices at time T\n",
    "    prob = comb(N,i) * p**i * (1-p)**(N-i) # probability of ending up at state with stock price S_T\n",
    "    C_T = np.max([S_T-K,0]) # value of a call option at T\n",
    "    P_T = np.max([K-S_T,0]) # value of a put option at T\n",
    "    df.loc[i] = [prob, S_T, C_T, P_T]"
   ]
  },
  {
   "cell_type": "code",
   "execution_count": 5,
   "id": "9f8a8e6d",
   "metadata": {},
   "outputs": [
    {
     "data": {
      "text/html": [
       "<div>\n",
       "<style scoped>\n",
       "    .dataframe tbody tr th:only-of-type {\n",
       "        vertical-align: middle;\n",
       "    }\n",
       "\n",
       "    .dataframe tbody tr th {\n",
       "        vertical-align: top;\n",
       "    }\n",
       "\n",
       "    .dataframe thead th {\n",
       "        text-align: right;\n",
       "    }\n",
       "</style>\n",
       "<table border=\"1\" class=\"dataframe\">\n",
       "  <thead>\n",
       "    <tr style=\"text-align: right;\">\n",
       "      <th></th>\n",
       "      <th>Probability</th>\n",
       "      <th>S_T</th>\n",
       "      <th>C_T</th>\n",
       "      <th>P_T</th>\n",
       "    </tr>\n",
       "  </thead>\n",
       "  <tbody>\n",
       "    <tr>\n",
       "      <th>0</th>\n",
       "      <td>0.276763</td>\n",
       "      <td>28.398536</td>\n",
       "      <td>0.0</td>\n",
       "      <td>31.601464</td>\n",
       "    </tr>\n",
       "    <tr>\n",
       "      <th>1</th>\n",
       "      <td>0.498639</td>\n",
       "      <td>50.0</td>\n",
       "      <td>0.0</td>\n",
       "      <td>10.0</td>\n",
       "    </tr>\n",
       "    <tr>\n",
       "      <th>2</th>\n",
       "      <td>0.224597</td>\n",
       "      <td>88.032708</td>\n",
       "      <td>28.032708</td>\n",
       "      <td>0.0</td>\n",
       "    </tr>\n",
       "  </tbody>\n",
       "</table>\n",
       "</div>"
      ],
      "text/plain": [
       "  Probability        S_T        C_T        P_T\n",
       "0    0.276763  28.398536        0.0  31.601464\n",
       "1    0.498639       50.0        0.0       10.0\n",
       "2    0.224597  88.032708  28.032708        0.0"
      ]
     },
     "execution_count": 5,
     "metadata": {},
     "output_type": "execute_result"
    }
   ],
   "source": [
    "df"
   ]
  },
  {
   "cell_type": "code",
   "execution_count": 6,
   "id": "659d3fd4",
   "metadata": {},
   "outputs": [
    {
     "data": {
      "text/plain": [
       "88.03270827620895"
      ]
     },
     "execution_count": 6,
     "metadata": {},
     "output_type": "execute_result"
    }
   ],
   "source": [
    "S_0*u*u"
   ]
  },
  {
   "cell_type": "code",
   "execution_count": 7,
   "id": "322a6f78",
   "metadata": {},
   "outputs": [
    {
     "data": {
      "text/plain": [
       "0.22459737810724525"
      ]
     },
     "execution_count": 7,
     "metadata": {},
     "output_type": "execute_result"
    }
   ],
   "source": [
    "p**2"
   ]
  },
  {
   "cell_type": "code",
   "execution_count": 8,
   "id": "1eab59c9",
   "metadata": {},
   "outputs": [],
   "source": [
    "C = (df['Probability'] * df['C_T']).sum() * np.exp(-r*T) # discounted expectation of call value\n",
    "P = (df['Probability'] * df['P_T']).sum() * np.exp(-r*T) # discounted expectation of put value"
   ]
  },
  {
   "cell_type": "code",
   "execution_count": 9,
   "id": "81a72700",
   "metadata": {},
   "outputs": [
    {
     "data": {
      "text/plain": [
       "(5.989009687211826, 13.062775157254661)"
      ]
     },
     "execution_count": 9,
     "metadata": {},
     "output_type": "execute_result"
    }
   ],
   "source": [
    "C, P"
   ]
  },
  {
   "cell_type": "code",
   "execution_count": 11,
   "id": "879a80ed",
   "metadata": {},
   "outputs": [],
   "source": [
    "def binomial_price(S_0, K, T, N, sigma, r):\n",
    "    '''\n",
    "    calculate price of call and put option on stock S\n",
    "    \n",
    "    Args:\n",
    "        S_0 (float): current stock price\n",
    "        K (float): option strike price\n",
    "        T (float): time to option maturity (in years)\n",
    "        N (integer): number of time steps to use\n",
    "        sigma (float): annual volatility of stock log prices\n",
    "        r (float): annual risk-free rate\n",
    "        \n",
    "    Returns:\n",
    "        C (float): price of call option\n",
    "        P (float): price of put option\n",
    "    '''\n",
    "    \n",
    "    dt = T/N # delta t\n",
    "    u = np.exp(sigma * np.sqrt(dt)) # up move\n",
    "    d = np.exp(-sigma * np.sqrt(dt)) # down move\n",
    "    p = (np.exp(r*dt) - d) / (u - d) # risk-free probability\n",
    "    \n",
    "    df = pd.DataFrame(index=np.arange(N+1), columns=['Probability', 'S_T', 'C_T', 'P_T'])\n",
    "\n",
    "    for i in range(N+1):\n",
    "        S_T = S_0 * u**i * d**(N-i) # stock prices at time T\n",
    "        prob = comb(N,i) * p**i * (1-p)**(N-i) # probability of ending up at state with stock price S_T\n",
    "        C_T = np.max([S_T-K,0]) # value of a call option at T\n",
    "        P_T = np.max([K-S_T,0]) # value of a put option at T\n",
    "        df.loc[i] = [prob, S_T, C_T, P_T]\n",
    "        \n",
    "    C = (df['Probability'] * df['C_T']).sum() * np.exp(-r*T) # discounted expectation of call value\n",
    "    P = (df['Probability'] * df['P_T']).sum() * np.exp(-r*T) # discounted expectation of put value\n",
    "    \n",
    "    return C,P"
   ]
  },
  {
   "cell_type": "code",
   "execution_count": 12,
   "id": "0681ca5b",
   "metadata": {},
   "outputs": [
    {
     "data": {
      "text/plain": [
       "(6.436302879113206, 13.510068349156045)"
      ]
     },
     "execution_count": 12,
     "metadata": {},
     "output_type": "execute_result"
    }
   ],
   "source": [
    "N=1\n",
    "binomial_price(S_0, K, T, N, sigma, r)"
   ]
  },
  {
   "cell_type": "code",
   "execution_count": 13,
   "id": "b44fc767",
   "metadata": {},
   "outputs": [
    {
     "data": {
      "text/plain": [
       "(5.5070388014857885, 12.580804271528677)"
      ]
     },
     "execution_count": 13,
     "metadata": {},
     "output_type": "execute_result"
    }
   ],
   "source": [
    "N=10\n",
    "binomial_price(S_0, K, T, N, sigma, r)"
   ]
  },
  {
   "cell_type": "code",
   "execution_count": 14,
   "id": "972e3537",
   "metadata": {},
   "outputs": [
    {
     "data": {
      "text/plain": [
       "(5.41205064244231, 12.485816112485582)"
      ]
     },
     "execution_count": 14,
     "metadata": {},
     "output_type": "execute_result"
    }
   ],
   "source": [
    "N=100\n",
    "binomial_price(S_0, K, T, N, sigma, r)"
   ]
  },
  {
   "cell_type": "code",
   "execution_count": 15,
   "id": "a4e06334",
   "metadata": {},
   "outputs": [
    {
     "data": {
      "text/plain": [
       "(5.401217999027754, 12.474983469069723)"
      ]
     },
     "execution_count": 15,
     "metadata": {},
     "output_type": "execute_result"
    }
   ],
   "source": [
    "N=500\n",
    "binomial_price(S_0, K, T, N, sigma, r)"
   ]
  },
  {
   "cell_type": "code",
   "execution_count": 16,
   "id": "2d9dbed9",
   "metadata": {},
   "outputs": [
    {
     "data": {
      "text/plain": [
       "(5.4033254760565566, 12.477090946098135)"
      ]
     },
     "execution_count": 16,
     "metadata": {},
     "output_type": "execute_result"
    }
   ],
   "source": [
    "N=1000\n",
    "binomial_price(S_0, K, T, N, sigma, r)"
   ]
  },
  {
   "cell_type": "code",
   "execution_count": null,
   "id": "c149b191",
   "metadata": {},
   "outputs": [],
   "source": []
  }
 ],
 "metadata": {
  "kernelspec": {
   "display_name": "Python 3 (ipykernel)",
   "language": "python",
   "name": "python3"
  },
  "language_info": {
   "codemirror_mode": {
    "name": "ipython",
    "version": 3
   },
   "file_extension": ".py",
   "mimetype": "text/x-python",
   "name": "python",
   "nbconvert_exporter": "python",
   "pygments_lexer": "ipython3",
   "version": "3.8.12"
  }
 },
 "nbformat": 4,
 "nbformat_minor": 5
}
