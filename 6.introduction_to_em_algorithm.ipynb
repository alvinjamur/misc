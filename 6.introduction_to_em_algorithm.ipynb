{
 "cells": [
  {
   "cell_type": "code",
   "execution_count": 1,
   "id": "f6257bba",
   "metadata": {},
   "outputs": [],
   "source": [
    "import pandas as pd\n",
    "import numpy as np\n",
    "import matplotlib.pyplot as plt\n",
    "from scipy import stats\n",
    "from scipy import optimize"
   ]
  },
  {
   "cell_type": "markdown",
   "id": "92889ac3",
   "metadata": {},
   "source": [
    "# coin toss example (complete information)"
   ]
  },
  {
   "cell_type": "code",
   "execution_count": 2,
   "id": "4eb95f12",
   "metadata": {},
   "outputs": [],
   "source": [
    "m = 10 # number of flips in experiment\n",
    "n = 5 # number of experiments\n",
    "\n",
    "p_1 = 0.8\n",
    "p_2 = 0.3\n",
    "\n",
    "xs = [] # number of heads in each experiment\n",
    "zs = [0,0,1,0,1] # which coin to flip\n",
    "\n",
    "np.random.seed(5)\n",
    "for i in zs:\n",
    "    if i==0:\n",
    "        xs.append(stats.binom(n=m, p=p_1).rvs()) # flip coin 1\n",
    "    elif i==1:\n",
    "        xs.append(stats.binom(n=m, p=p_2).rvs()) # flip coin 2"
   ]
  },
  {
   "cell_type": "code",
   "execution_count": 3,
   "id": "261b48cd",
   "metadata": {
    "scrolled": true
   },
   "outputs": [
    {
     "name": "stdout",
     "output_type": "stream",
     "text": [
      "[9 7 2 6 3]\n"
     ]
    }
   ],
   "source": [
    "xs = np.array(xs)\n",
    "print(xs)"
   ]
  },
  {
   "cell_type": "markdown",
   "id": "48cbb16a",
   "metadata": {},
   "source": [
    "### analytical solution"
   ]
  },
  {
   "cell_type": "code",
   "execution_count": 4,
   "id": "31518365",
   "metadata": {
    "scrolled": true
   },
   "outputs": [
    {
     "name": "stdout",
     "output_type": "stream",
     "text": [
      "Analytical solutions:\n",
      "p1:  0.7333333333333333\n",
      "p2:  0.25\n"
     ]
    }
   ],
   "source": [
    "exp1 = [0,1,3] # indexes of experiments with coin 1\n",
    "exp2 = [2,4] # indexes of experiments with coin 2\n",
    "\n",
    "print('Analytical solutions:')\n",
    "print('p1: ', xs[exp1].sum() / (m * len(exp1)))\n",
    "print('p2: ', xs[exp2].sum() / (m * len(exp2)))"
   ]
  },
  {
   "cell_type": "markdown",
   "id": "3b377052",
   "metadata": {},
   "source": [
    "### numerical solution"
   ]
  },
  {
   "cell_type": "code",
   "execution_count": 5,
   "id": "737aea4f",
   "metadata": {},
   "outputs": [],
   "source": [
    "def neg_log_likelihood(probs, m, xs, zs):\n",
    "    '''\n",
    "    compute negative log-likelihood\n",
    "    '''\n",
    "    ll = 0\n",
    "    for x,z in zip(xs,zs):\n",
    "        ll += stats.binom(p=probs[z], n=m).logpmf(x)\n",
    "        \n",
    "    return -ll"
   ]
  },
  {
   "cell_type": "code",
   "execution_count": 6,
   "id": "23939478",
   "metadata": {},
   "outputs": [],
   "source": [
    "res = optimize.minimize(neg_log_likelihood, [0.5,0.5], bounds=[(0,1),(0,1)], args=(m,xs,zs), method='tnc')"
   ]
  },
  {
   "cell_type": "code",
   "execution_count": 7,
   "id": "17cfa17f",
   "metadata": {
    "scrolled": true
   },
   "outputs": [
    {
     "name": "stdout",
     "output_type": "stream",
     "text": [
      "Numerical solution:\n",
      "p1:  0.7333327749188117\n",
      "p2:  0.24999991839920377\n"
     ]
    }
   ],
   "source": [
    "print('Numerical solution:')\n",
    "print('p1: ', res.x[0])\n",
    "print('p2: ', res.x[1])"
   ]
  },
  {
   "cell_type": "markdown",
   "id": "08546423",
   "metadata": {},
   "source": [
    "# EM algo (example from the paper)"
   ]
  },
  {
   "cell_type": "code",
   "execution_count": 8,
   "id": "e584b4f6",
   "metadata": {},
   "outputs": [
    {
     "name": "stdout",
     "output_type": "stream",
     "text": [
      "step:0, p1=0.71, p2=0.58\n",
      "step:1, p1=0.75, p2=0.57\n",
      "step:2, p1=0.77, p2=0.55\n",
      "step:3, p1=0.78, p2=0.53\n",
      "step:4, p1=0.79, p2=0.53\n",
      "step:5, p1=0.79, p2=0.52\n",
      "step:6, p1=0.80, p2=0.52\n",
      "step:7, p1=0.80, p2=0.52\n",
      "step:8, p1=0.80, p2=0.52\n",
      "step:9, p1=0.80, p2=0.52\n"
     ]
    }
   ],
   "source": [
    "m = 10 # number of flips in each sample\n",
    "n = 5 # number of samples\n",
    "xs = np.array([5,9,8,4,7])\n",
    "\n",
    "theta = [0.6, 0.5] # initial guess p_1, p_2\n",
    "\n",
    "for i in range(10):\n",
    "    p_1,p_2 = theta\n",
    "    T_1s = []\n",
    "    T_2s = []\n",
    "    \n",
    "    # E-step\n",
    "    for x in xs:\n",
    "        T_1 = stats.binom(n=m,p=theta[0]).pmf(x) / (stats.binom(n=m,p=theta[0]).pmf(x) + \n",
    "                                                    stats.binom(n=m,p=theta[1]).pmf(x))\n",
    "        T_2 = stats.binom(n=m,p=theta[1]).pmf(x) / (stats.binom(n=m,p=theta[0]).pmf(x) + \n",
    "                                                    stats.binom(n=m,p=theta[1]).pmf(x))\n",
    "        \n",
    "        T_1s.append(T_1)\n",
    "        T_2s.append(T_2)\n",
    "        \n",
    "    \n",
    "    # M-step\n",
    "    T_1s = np.array(T_1s)\n",
    "    T_2s = np.array(T_2s)\n",
    "    p_1 = np.dot(T_1s, xs) / (m * np.sum(T_1s))\n",
    "    p_2 = np.dot(T_2s, xs) / (m * np.sum(T_2s))\n",
    "    print(f'step:{i}, p1={p_1:.2f}, p2={p_2:.2f}')\n",
    "    theta = [p_1, p_2]"
   ]
  },
  {
   "cell_type": "markdown",
   "id": "635142bc",
   "metadata": {},
   "source": [
    "# EM algo (Binomial mixture)"
   ]
  },
  {
   "cell_type": "code",
   "execution_count": 23,
   "id": "02bb533c",
   "metadata": {},
   "outputs": [],
   "source": [
    "# model parameters\n",
    "p_1 = 0.1\n",
    "p_2 = 0.8\n",
    "tau_1 = 0.3\n",
    "tau_2 = 1-tau_1\n",
    "\n",
    "m = 10 # number of flips in each sample\n",
    "n = 10 # number of samples\n",
    "\n",
    "# generate data\n",
    "np.random.seed(123)\n",
    "dists = [stats.binom(n=m, p=p_1), stats.binom(n=m, p=p_2)]\n",
    "xs = [dists[x].rvs() for x in np.random.choice([0,1], size=n, p=[tau_1,tau_2])]"
   ]
  },
  {
   "cell_type": "code",
   "execution_count": 24,
   "id": "f25d2ac3",
   "metadata": {},
   "outputs": [
    {
     "name": "stdout",
     "output_type": "stream",
     "text": [
      "[9, 1, 1, 10, 8, 7, 9, 9, 8, 8]\n"
     ]
    }
   ],
   "source": [
    "print(xs)"
   ]
  },
  {
   "cell_type": "code",
   "execution_count": 26,
   "id": "57bbae1b",
   "metadata": {},
   "outputs": [
    {
     "name": "stdout",
     "output_type": "stream",
     "text": [
      "step:0, tau=0.86, p1=0.75, p2=0.38, log_likelihood=-74.14\n",
      "step:1, tau=0.80, p1=0.85, p2=0.11, log_likelihood=-20.71\n",
      "step:2, tau=0.80, p1=0.85, p2=0.10, log_likelihood=-14.88\n",
      "step:3, tau=0.80, p1=0.85, p2=0.10, log_likelihood=-14.83\n",
      "step:4, tau=0.80, p1=0.85, p2=0.10, log_likelihood=-14.83\n"
     ]
    }
   ],
   "source": [
    "# random initial guess\n",
    "np.random.seed(123)\n",
    "theta = [np.random.rand() for _ in range(3)]\n",
    "\n",
    "last_ll = 0\n",
    "max_iter = 100\n",
    "\n",
    "for i in range(max_iter):\n",
    "    tau,p_1,p_2 = theta\n",
    "    T_1s = []\n",
    "    T_2s = []\n",
    "    \n",
    "    # E-step\n",
    "    lls = []\n",
    "    for x in xs:\n",
    "        denom = (tau * stats.binom(n=m,p=p_1).pmf(x) + (1-tau) * stats.binom(n=m,p=p_2).pmf(x))\n",
    "        T_1 = tau * stats.binom(n=m,p=p_1).pmf(x) / denom\n",
    "        T_2 = (1-tau) * stats.binom(n=m,p=p_2).pmf(x) / denom\n",
    "        T_1s.append(T_1)\n",
    "        T_2s.append(T_2)\n",
    "        lls.append(T_1 * np.log(tau * stats.binom(n=m,p=p_1).pmf(x)) + \n",
    "                   T_2 * np.log(tau * stats.binom(n=m,p=p_2).pmf(x)))\n",
    "    \n",
    "    # M-step\n",
    "    T_1s = np.array(T_1s)\n",
    "    T_2s = np.array(T_2s)\n",
    "    tau = np.sum(T_1s) / n\n",
    "    p_1 = np.dot(T_1s, xs) / (m * np.sum(T_1s))\n",
    "    p_2 = np.dot(T_2s, xs) / (m * np.sum(T_2s))\n",
    "    print(f'step:{i}, tau={tau:.2f}, p1={p_1:.2f}, p2={p_2:.2f}, log_likelihood={sum(lls):.2f}')\n",
    "    theta = [tau, p_1, p_2]\n",
    "    \n",
    "    # stop when likelihood doesn't improve anymore\n",
    "    if abs(sum(lls) - last_ll) < 0.001:\n",
    "        break\n",
    "    else:\n",
    "        last_ll=sum(lls)"
   ]
  },
  {
   "cell_type": "markdown",
   "id": "b2ed6282",
   "metadata": {},
   "source": [
    "### bigger number of samples"
   ]
  },
  {
   "cell_type": "code",
   "execution_count": 20,
   "id": "ae2e11d8",
   "metadata": {},
   "outputs": [],
   "source": [
    "p_1 = 0.1\n",
    "p_2 = 0.8\n",
    "tau_1 = 0.3\n",
    "tau_2 = 1-tau_1\n",
    "\n",
    "m = 10 # number of flips in each sample\n",
    "n = 200 # number of samples\n",
    "\n",
    "# generate data\n",
    "np.random.seed(123)\n",
    "dists = [stats.binom(n=m, p=p_1), stats.binom(n=m, p=p_2)]\n",
    "xs = [dists[x].rvs() for x in np.random.choice([0,1], size=n, p=[tau_1,tau_2])]"
   ]
  },
  {
   "cell_type": "code",
   "execution_count": 21,
   "id": "a1fd59d9",
   "metadata": {},
   "outputs": [
    {
     "name": "stdout",
     "output_type": "stream",
     "text": [
      "[8, 0, 1, 4, 7, 8, 10, 7, 8, 10, 7, 8, 8, 2, 8, 8, 0, 0, 7, 9, 8, 5, 9, 6, 6, 10, 8, 1, 0, 10, 0, 10, 9, 7, 6, 10, 9, 5, 8, 8, 10, 1, 5, 9, 10, 1, 6, 9, 7, 7, 0, 8, 7, 8, 9, 5, 8, 7, 10, 9, 8, 10, 5, 9, 9, 0, 10, 0, 0, 8, 0, 9, 10, 9, 1, 9, 8, 0, 1, 10, 6, 10, 9, 7, 10, 7, 5, 2, 7, 6, 8, 7, 9, 6, 9, 6, 2, 7, 0, 8, 10, 7, 0, 0, 9, 7, 9, 8, 8, 9, 8, 8, 0, 8, 8, 6, 8, 6, 1, 8, 10, 1, 2, 9, 10, 8, 1, 7, 10, 6, 7, 2, 8, 7, 9, 1, 8, 2, 9, 9, 3, 2, 9, 8, 9, 9, 9, 0, 6, 7, 1, 6, 1, 9, 9, 0, 9, 10, 8, 9, 8, 9, 8, 0, 9, 7, 8, 9, 8, 7, 6, 1, 9, 7, 7, 0, 2, 1, 7, 9, 9, 3, 1, 7, 7, 9, 1, 7, 8, 10, 0, 9, 6, 8, 0, 9, 0, 8, 9, 2]\n"
     ]
    }
   ],
   "source": [
    "print(xs)"
   ]
  },
  {
   "cell_type": "code",
   "execution_count": 22,
   "id": "e6c464f0",
   "metadata": {},
   "outputs": [
    {
     "name": "stdout",
     "output_type": "stream",
     "text": [
      "step:0, tau=0.8349444847603371, p1=0.69, p2=0.31, likelihood=-1319.73\n",
      "step:1, tau=0.7476959535947724, p1=0.80, p2=0.10, likelihood=-482.42\n",
      "step:2, tau=0.7526128303772595, p1=0.80, p2=0.09, likelihood=-373.30\n",
      "step:3, tau=0.7538000667944199, p1=0.80, p2=0.08, likelihood=-371.20\n",
      "step:4, tau=0.7539575693865782, p1=0.80, p2=0.08, likelihood=-370.89\n",
      "step:5, tau=0.7539776112051868, p1=0.80, p2=0.08, likelihood=-370.85\n",
      "step:6, tau=0.7539801481913413, p1=0.80, p2=0.08, likelihood=-370.84\n",
      "step:7, tau=0.7539804691184753, p1=0.80, p2=0.08, likelihood=-370.84\n"
     ]
    }
   ],
   "source": [
    "# random initial guess\n",
    "np.random.seed(123)\n",
    "theta = [np.random.rand() for _ in range(3)]\n",
    "\n",
    "last_ll = 0\n",
    "max_iter = 100\n",
    "\n",
    "for i in range(max_iter):\n",
    "    tau,p_1,p_2 = theta\n",
    "    T_1s = []\n",
    "    T_2s = []\n",
    "    \n",
    "    # E-step\n",
    "    lls = []\n",
    "    for x in xs:\n",
    "        denom = (tau * stats.binom(n=m,p=p_1).pmf(x) + (1-tau) * stats.binom(n=m,p=p_2).pmf(x))\n",
    "        T_1 = tau * stats.binom(n=m,p=p_1).pmf(x) / denom\n",
    "        T_2 = (1-tau) * stats.binom(n=m,p=p_2).pmf(x) / denom\n",
    "        T_1s.append(T_1)\n",
    "        T_2s.append(T_2)\n",
    "        lls.append(T_1 * np.log(tau * stats.binom(n=m,p=p_1).pmf(x)) + \n",
    "                   T_2 * np.log(tau * stats.binom(n=m,p=p_2).pmf(x)))\n",
    "    \n",
    "    # M-step\n",
    "    T_1s = np.array(T_1s)\n",
    "    T_2s = np.array(T_2s)\n",
    "    tau = np.sum(T_1s) / n\n",
    "    p_1 = np.dot(T_1s, xs) / (m * np.sum(T_1s))\n",
    "    p_2 = np.dot(T_2s, xs) / (m * np.sum(T_2s))\n",
    "    print(f'step:{i}, tau={tau}, p1={p_1:.2f}, p2={p_2:.2f}, likelihood={sum(lls):.2f}')\n",
    "    theta = [tau, p_1, p_2]\n",
    "    \n",
    "    # stop when likelihood doesn't improve anymore\n",
    "    if abs(sum(lls) - last_ll) < 0.001:\n",
    "        break\n",
    "    else:\n",
    "        last_ll=sum(lls)"
   ]
  },
  {
   "cell_type": "code",
   "execution_count": null,
   "id": "753b1248",
   "metadata": {},
   "outputs": [],
   "source": []
  }
 ],
 "metadata": {
  "kernelspec": {
   "display_name": "Python 3 (ipykernel)",
   "language": "python",
   "name": "python3"
  },
  "language_info": {
   "codemirror_mode": {
    "name": "ipython",
    "version": 3
   },
   "file_extension": ".py",
   "mimetype": "text/x-python",
   "name": "python",
   "nbconvert_exporter": "python",
   "pygments_lexer": "ipython3",
   "version": "3.8.12"
  }
 },
 "nbformat": 4,
 "nbformat_minor": 5
}
