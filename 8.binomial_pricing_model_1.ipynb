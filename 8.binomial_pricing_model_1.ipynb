{
 "cells": [
  {
   "cell_type": "code",
   "execution_count": 1,
   "id": "cd80f7f0",
   "metadata": {},
   "outputs": [],
   "source": [
    "import numpy as np"
   ]
  },
  {
   "cell_type": "code",
   "execution_count": 2,
   "id": "16a3bdae",
   "metadata": {},
   "outputs": [],
   "source": [
    "def calculate_price(s_0, s_u, s_d, f_u, f_d, r):\n",
    "    '''\n",
    "    Compute the price of portfolio which costs f_u in up state and f_d in down state\n",
    "\n",
    "    Args:\n",
    "        s_0 (float): current stock price\n",
    "        s_u (float): stock price in up state\n",
    "        s_d (float): stock price in down state\n",
    "        f_u (float): payout of derivative in up state\n",
    "        f_d (float): payout of derivative in down state\n",
    "        r (float): risk-free rate (continuously compounded)\n",
    "\n",
    "    Returns:\n",
    "        phi (float): amount of shares in replicating portfolio\n",
    "        psi (float): amount of cash in replicating portfolio\n",
    "        V (float): price of replicating portfolio\n",
    "    '''\n",
    "    \n",
    "    phi = (f_u - f_d) / (s_u - s_d)\n",
    "    psi = np.exp(-r) * (f_u - ((f_u - f_d) * s_u) / (s_u - s_d))\n",
    "    V = (phi * s_0 + psi)\n",
    "    \n",
    "    return phi, psi, V"
   ]
  },
  {
   "cell_type": "code",
   "execution_count": 3,
   "id": "d858d29e",
   "metadata": {},
   "outputs": [],
   "source": [
    "s_0 = 80 # current stock price\n",
    "s_u = 100 # stock price in up state\n",
    "s_d = 60 # stock price in down state\n",
    "K = 90 # option strike price\n",
    "r = 0.05 # risk-free rate"
   ]
  },
  {
   "cell_type": "code",
   "execution_count": 4,
   "id": "8562e6ce",
   "metadata": {
    "scrolled": true
   },
   "outputs": [
    {
     "name": "stdout",
     "output_type": "stream",
     "text": [
      "0.25 -14.268441367510711 5.731558632489289\n"
     ]
    }
   ],
   "source": [
    "f_u = np.max([s_u-K,0]) # payout of call option in up state\n",
    "f_d = np.max([s_d-K,0]) # payout of call option in down state\n",
    "phi, psi, V = calculate_price(s_0, s_u, s_d, f_u, f_d, r)\n",
    "print(phi, psi, V)"
   ]
  },
  {
   "cell_type": "code",
   "execution_count": 5,
   "id": "82d66293",
   "metadata": {
    "scrolled": true
   },
   "outputs": [
    {
     "data": {
      "text/plain": [
       "9.999999999999998"
      ]
     },
     "execution_count": 5,
     "metadata": {},
     "output_type": "execute_result"
    }
   ],
   "source": [
    "# portfolio price in up state\n",
    "phi*s_u + psi * np.exp(r)"
   ]
  },
  {
   "cell_type": "code",
   "execution_count": 6,
   "id": "c13695be",
   "metadata": {},
   "outputs": [
    {
     "data": {
      "text/plain": [
       "-1.7763568394002505e-15"
      ]
     },
     "execution_count": 6,
     "metadata": {},
     "output_type": "execute_result"
    }
   ],
   "source": [
    "# portfolio price in down state\n",
    "phi*s_d + psi * np.exp(r)"
   ]
  },
  {
   "cell_type": "code",
   "execution_count": 7,
   "id": "d622a5bb",
   "metadata": {},
   "outputs": [
    {
     "name": "stdout",
     "output_type": "stream",
     "text": [
      "-0.75 71.34220683755355 11.342206837553547\n"
     ]
    }
   ],
   "source": [
    "f_u = np.max([K-s_u,0]) # payout of put option in up state\n",
    "f_d = np.max([K-s_d,0]) # payout of put option in down state\n",
    "phi, psi, V = calculate_price(s_0, s_u, s_d, f_u, f_d, r)\n",
    "print(phi, psi, V)"
   ]
  },
  {
   "cell_type": "code",
   "execution_count": 8,
   "id": "9cfc0095",
   "metadata": {},
   "outputs": [
    {
     "data": {
      "text/plain": [
       "0.0"
      ]
     },
     "execution_count": 8,
     "metadata": {},
     "output_type": "execute_result"
    }
   ],
   "source": [
    "# portfolio price in up state\n",
    "phi*s_u + psi * np.exp(r)"
   ]
  },
  {
   "cell_type": "code",
   "execution_count": 9,
   "id": "00f5c93c",
   "metadata": {},
   "outputs": [
    {
     "data": {
      "text/plain": [
       "30.0"
      ]
     },
     "execution_count": 9,
     "metadata": {},
     "output_type": "execute_result"
    }
   ],
   "source": [
    "# portfolio price in down state\n",
    "-0.75*s_d + 71.34220683755355 * np.exp(r)"
   ]
  },
  {
   "cell_type": "markdown",
   "id": "559a5c1f",
   "metadata": {},
   "source": [
    "# 2-period"
   ]
  },
  {
   "cell_type": "code",
   "execution_count": 10,
   "id": "4c15b972",
   "metadata": {},
   "outputs": [],
   "source": [
    "s_u = 100 # stock price in up state\n",
    "s_uu = 120 # stock price in up-up state\n",
    "s_ud = 80 # stock price in up-down state\n",
    "K = 90 # option strike price\n",
    "r = 0.05 # risk-free rate"
   ]
  },
  {
   "cell_type": "code",
   "execution_count": 11,
   "id": "1519c897",
   "metadata": {},
   "outputs": [
    {
     "name": "stdout",
     "output_type": "stream",
     "text": [
      "0.75 -57.073765470042844 17.926234529957156\n"
     ]
    }
   ],
   "source": [
    "f_uu = np.max([s_uu-K,0]) # payout of call option in up-up state\n",
    "f_ud = np.max([s_ud-K,0]) # payout of call option in up-down state\n",
    "phi, psi, V = calculate_price(s_u, s_uu, s_ud, f_uu, f_ud, r)\n",
    "print(phi, psi, V)"
   ]
  },
  {
   "cell_type": "code",
   "execution_count": 12,
   "id": "f85ccf21",
   "metadata": {},
   "outputs": [],
   "source": [
    "s_d = 60 # stock price in down state\n",
    "s_du = 80 # stock price in down-up state\n",
    "s_dd = 40 # stock price in down-down state\n",
    "K = 90 # option strike price\n",
    "r = 0.05 # risk-free rate"
   ]
  },
  {
   "cell_type": "code",
   "execution_count": 13,
   "id": "b54cde53",
   "metadata": {},
   "outputs": [
    {
     "name": "stdout",
     "output_type": "stream",
     "text": [
      "0.0 0.0 0.0\n"
     ]
    }
   ],
   "source": [
    "f_du = np.max([s_du-K,0]) # payout of call option in down-up state\n",
    "f_dd = np.max([s_dd-K,0]) # payout of call option in down-down state\n",
    "phi, psi, V = calculate_price(s_d, s_du, s_dd, f_du, f_dd, r)\n",
    "print(phi, psi, V)"
   ]
  },
  {
   "cell_type": "code",
   "execution_count": 14,
   "id": "f34e381c",
   "metadata": {},
   "outputs": [],
   "source": [
    "s_0 = 80 # current stock price\n",
    "s_u = 100 # stock price in up state\n",
    "s_d = 60 # stock price in down state"
   ]
  },
  {
   "cell_type": "code",
   "execution_count": 15,
   "id": "ce7f6683",
   "metadata": {},
   "outputs": [
    {
     "name": "stdout",
     "output_type": "stream",
     "text": [
      "0.4481558632489289 -25.57794263309396 10.274526426820351\n"
     ]
    }
   ],
   "source": [
    "f_u = 17.926234529957156 # value of portfolio in up state\n",
    "f_d = 0 # value of portfolio in down state\n",
    "phi, psi, V = calculate_price(s_0, s_u, s_d, f_u, f_d, r)\n",
    "print(phi, psi, V)"
   ]
  },
  {
   "cell_type": "code",
   "execution_count": 16,
   "id": "ab61e9bc",
   "metadata": {},
   "outputs": [
    {
     "data": {
      "text/plain": [
       "17.926234529957153"
      ]
     },
     "execution_count": 16,
     "metadata": {},
     "output_type": "execute_result"
    }
   ],
   "source": [
    "# value of portfolio in up state\n",
    "phi*s_u + psi*np.exp(r)"
   ]
  },
  {
   "cell_type": "code",
   "execution_count": 17,
   "id": "1c267aec",
   "metadata": {},
   "outputs": [
    {
     "data": {
      "text/plain": [
       "-3.552713678800501e-15"
      ]
     },
     "execution_count": 17,
     "metadata": {},
     "output_type": "execute_result"
    }
   ],
   "source": [
    "# value of portfolio in down state\n",
    "phi*s_d + psi*np.exp(r)"
   ]
  },
  {
   "cell_type": "code",
   "execution_count": null,
   "id": "b15a04bb",
   "metadata": {},
   "outputs": [],
   "source": []
  },
  {
   "cell_type": "code",
   "execution_count": null,
   "id": "02f2506f",
   "metadata": {},
   "outputs": [],
   "source": []
  }
 ],
 "metadata": {
  "kernelspec": {
   "display_name": "Python 3 (ipykernel)",
   "language": "python",
   "name": "python3"
  },
  "language_info": {
   "codemirror_mode": {
    "name": "ipython",
    "version": 3
   },
   "file_extension": ".py",
   "mimetype": "text/x-python",
   "name": "python",
   "nbconvert_exporter": "python",
   "pygments_lexer": "ipython3",
   "version": "3.8.12"
  }
 },
 "nbformat": 4,
 "nbformat_minor": 5
}
